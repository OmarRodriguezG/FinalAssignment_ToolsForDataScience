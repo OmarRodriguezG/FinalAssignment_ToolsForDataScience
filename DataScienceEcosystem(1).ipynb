{
 "cells": [
  {
   "cell_type": "markdown",
   "id": "b1adcf58-3b7a-4f4f-a601-bc1d37dacae0",
   "metadata": {},
   "source": [
    "**Exercise 2: Create markdown cell with title of the notebook**"
   ]
  },
  {
   "cell_type": "markdown",
   "id": "50e25968-e776-4e85-b3bd-32b41d32218e",
   "metadata": {},
   "source": [
    "# Data Science Tools and Ecosystem"
   ]
  },
  {
   "cell_type": "markdown",
   "id": "3ad56e13-0e5a-4e3b-a340-85f90b546277",
   "metadata": {},
   "source": [
    "**Exercise 3 - Create a markdown cell for an introduction**"
   ]
  },
  {
   "cell_type": "markdown",
   "id": "26db7e64-7a44-40e4-8596-ee88c7c1e550",
   "metadata": {},
   "source": [
    "In this notebook, Data Science Tools and Ecosystem are summarized."
   ]
  },
  {
   "cell_type": "markdown",
   "id": "bb192e86-283c-4108-b675-df361d254a1e",
   "metadata": {},
   "source": [
    "**Exercise 10 - Insert a markdown cell to list Objectives**"
   ]
  },
  {
   "cell_type": "markdown",
   "id": "36edd11f-3817-44f6-9ab3-93d3c4b27217",
   "metadata": {},
   "source": [
    "**Objectives:**\n",
    "* List popular languages for Data Science\n",
    "* List open source tools for Data Science\n",
    "* List some of the most popular libraries for Data Science"
   ]
  },
  {
   "cell_type": "markdown",
   "id": "261e8ac1-4342-4eef-92c7-777e9acf296b",
   "metadata": {},
   "source": [
    "**Exercise 4 - Create a markdown cell to list data science languages**"
   ]
  },
  {
   "cell_type": "markdown",
   "id": "18ad505d-589a-4e3c-b1b0-2d32d4a0293a",
   "metadata": {},
   "source": [
    "Some of the popular languages that Data Scientists use are:\n",
    "1. Python\n",
    "2. R\n",
    "3. Julia"
   ]
  },
  {
   "cell_type": "markdown",
   "id": "52c4730d-566f-440e-80ec-fa99bebc8eef",
   "metadata": {},
   "source": [
    "**Exercise 5 - Create a markdown cell to list data science libraries**"
   ]
  },
  {
   "cell_type": "markdown",
   "id": "6bfda925-d525-4545-b6aa-123a1becd794",
   "metadata": {},
   "source": [
    "Some of the commonly used libraries used by Data Scientists include:\n",
    "1. TensorFlow\n",
    "2. Pandas\n",
    "3. ggplot"
   ]
  },
  {
   "cell_type": "markdown",
   "id": "4ff03838-fb39-4f90-a372-94bf33f05eda",
   "metadata": {},
   "source": [
    "**Exercise 6 - Create a markdown cell with a table of Data Science Tools**"
   ]
  },
  {
   "cell_type": "markdown",
   "id": "b5cd9ad7-4e26-4ce0-abf2-6c081cfea207",
   "metadata": {
    "tags": []
   },
   "source": [
    "|Data science Tools|\n",
    "---\n",
    "|Jupyter Lab|\n",
    "|RStudio|\n",
    "|GitLab|"
   ]
  },
  {
   "cell_type": "markdown",
   "id": "8e8b0dc6-55ea-4021-b470-ac0cb0f948c5",
   "metadata": {},
   "source": [
    "**Exercise 7 - Create a markdown cell introducing arithmetic expression examples**"
   ]
  },
  {
   "cell_type": "markdown",
   "id": "f518203f-0163-4990-b457-2470bf4ddccf",
   "metadata": {},
   "source": [
    "### Below are a few examples of evaluating arithmetic expressions in Python"
   ]
  },
  {
   "cell_type": "markdown",
   "id": "455d95e9-dc53-4d8a-aaf9-ce0d62b5cecc",
   "metadata": {},
   "source": [
    "**Exercise 8 - Create a code cell to multiply and add numbers**"
   ]
  },
  {
   "cell_type": "code",
   "execution_count": 3,
   "id": "1f8de2cf-e999-4af0-91b7-e36776982812",
   "metadata": {
    "tags": []
   },
   "outputs": [
    {
     "data": {
      "text/plain": [
       "17"
      ]
     },
     "execution_count": 3,
     "metadata": {},
     "output_type": "execute_result"
    }
   ],
   "source": [
    "# This is a simple arithmetic expression to multiply then add integers\n",
    "(3*4)+5"
   ]
  },
  {
   "cell_type": "markdown",
   "id": "15733bee-be58-43c9-842e-f00d7ed1e3c2",
   "metadata": {
    "tags": []
   },
   "source": [
    "**Exercise 9 - Create a code cell to convert minutes to hours**"
   ]
  },
  {
   "cell_type": "code",
   "execution_count": 7,
   "id": "3dc55fee-8282-4a3e-9390-ac43a10c2a62",
   "metadata": {
    "tags": []
   },
   "outputs": [
    {
     "data": {
      "text/plain": [
       "3.3333333333333335"
      ]
     },
     "execution_count": 7,
     "metadata": {},
     "output_type": "execute_result"
    }
   ],
   "source": [
    "# This will convert 200 minutes to hours by dividing by 60\n",
    "200/60"
   ]
  },
  {
   "cell_type": "markdown",
   "id": "29ce4c8e-1f6a-4055-b3ba-5cccd12d2800",
   "metadata": {},
   "source": [
    "**Exercise 11 - Create a markdown cell to indicate the Author's name**"
   ]
  },
  {
   "cell_type": "markdown",
   "id": "04fefc5c-ba5a-4845-b3fb-4bee66e8eb9a",
   "metadata": {},
   "source": [
    "## Author\n",
    "Omar Yamil Rodríguez Gamboa"
   ]
  },
  {
   "cell_type": "code",
   "execution_count": null,
   "id": "c1e89522-9aa8-4c70-934a-d58be5ed64e4",
   "metadata": {},
   "outputs": [],
   "source": []
  }
 ],
 "metadata": {
  "kernelspec": {
   "display_name": "Python 3",
   "language": "python",
   "name": "python3"
  },
  "language_info": {
   "codemirror_mode": {
    "name": "ipython",
    "version": 3
   },
   "file_extension": ".py",
   "mimetype": "text/x-python",
   "name": "python",
   "nbconvert_exporter": "python",
   "pygments_lexer": "ipython3",
   "version": "3.7.1"
  }
 },
 "nbformat": 4,
 "nbformat_minor": 5
}
